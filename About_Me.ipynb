{
  "cells": [
    {
      "cell_type": "markdown",
      "metadata": {
        "colab_type": "text",
        "id": "view-in-github"
      },
      "source": [
        "<a href=\"https://colab.research.google.com/github/ZacharyFry1/About_Me/blob/main/About_Me.ipynb\" target=\"_parent\"><img src=\"https://colab.research.google.com/assets/colab-badge.svg\" alt=\"Open In Colab\"/></a>"
      ]
    },
    {
      "cell_type": "code",
      "execution_count": null,
      "metadata": {
        "id": "XcA2WunB5p6a"
      },
      "outputs": [],
      "source": []
    },
    {
      "cell_type": "markdown",
      "metadata": {
        "id": "otDXYItg5w1J"
      },
      "source": [
        "## **Personal Information**\n",
        "- My preferred name is Zack. My pronouns are he/him.\n",
        "I signed up for this boot camp to get a better understanding of data science in general, with the idea that I might one day analyze data from telescopes.\n",
        "- I'm particularly fascinated by potentially habitable worlds and all the data required to draw conclusions about those worlds. The data needs to be sorted, analyzed, and made sense of. \n",
        "- If I could have the head of one animal it would be a mantis shrimp because they can see in a much broader range of the electromagnetic spectrum.\n",
        "- The three apps I would keep are:\n",
        "1. YouTube\n",
        "2. Google Maps\n",
        "3. Google Chrome\n",
        "- My favorite podcasts are Need To Know, Weaponized, The Joe Rogan Podcast and Star Talk.\n",
        "- I enjoy playing basketball. I also like reading and writing.\n",
        "- I have several books I've self published so hit me up if you're interested in reading them!\n"
      ]
    },
    {
      "cell_type": "markdown",
      "metadata": {
        "id": "7589HLo4_Q2i"
      },
      "source": [
        "\n",
        "## **Link to my books**\n",
        "Shameless plug [*Roswell 1947*.](https://www.amazon.com/Roswell-1947-Annonaki-Zachary-Fry/dp/1736410407/ref=mp_s_a_1_1?crid=VKY0FKWC9UNZ&dib=eyJ2IjoiMSJ9.fdGo0Td2AmgbbZCsCXVHS_QuE-8pb30Gq-sduUuSw6GZ2hPrLZy9JCRW1DN1FWfDfzwuCdhzfSORxrxZ61mV4Amy9dVEks52ZpLIETzveWF2QI8BcUp277Q5sokTi7hAhYCjNTzoYUuTwZ-uVEatdLngbt3spSGa36TCnO_S_YDv_DM0XPcqG8iool4IuzOwNp8jfB5VwUh331HB8i18-g.i7Oue6p4xq6Ux-wklvMeEkWAp4lTKi56xQb7q0tWQZY&dib_tag=se&keywords=roswell+1947&qid=1722652643&sprefix=roswell+1947%2Caps%2C147&sr=8-1)\n",
        "Second shameless plug [*The Miraculous Metallic Sphere*.](https://www.amazon.com/Miraculous-Metallic-Sphere-Zachary-Nicholas/dp/173641044X/ref=tmm_hrd_swatch_0?_encoding=UTF8&dib_tag=se&dib=eyJ2IjoiMSJ9.Uxjqc1ER3IBN27Eis_bbeg.Y3wZV0f1h6G7AVvdZmRVk11aE5eERWUaYYT4ukgU_VI&qid=1727112811&sr=8-1)\n",
        "\n",
        "***ROSWELL 1947***\n",
        "![Roswell 1947](https://m.media-amazon.com/images/I/61cSMDTzrGL._SL1499_.jpg)\n",
        "\n",
        "***THE MIRACULOUS METALLIC SPHERE***\n",
        "\n",
        "![The Miraculous Metallic Sphere](https://m.media-amazon.com/images/I/61wlonKlcxL._SY425_.jpg)\n"
      ]
    },
    {
      "cell_type": "markdown",
      "metadata": {
        "id": "mOHgRyis_d7D"
      },
      "source": [
        "\n",
        "## **Must Reads**\n",
        "\n",
        "Science Fiction| Fantasy| Horror|\n",
        "| - | - | - |\n",
        "Foundation | Game of Thrones | It\n",
        "Sphere | Harry Potter | Cirque Du Freak\n",
        "Project Hail Mary | Eragon | Lord Loss\n",
        "The Three Body Problem |\n"
      ]
    }
  ],
  "metadata": {
    "colab": {
      "authorship_tag": "ABX9TyOIrMEUSoTH9sBIwMMnFUR9",
      "include_colab_link": true,
      "provenance": [],
      "toc_visible": true
    },
    "kernelspec": {
      "display_name": "Python 3",
      "name": "python3"
    },
    "language_info": {
      "name": "python"
    }
  },
  "nbformat": 4,
  "nbformat_minor": 0
}
